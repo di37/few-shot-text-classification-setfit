{
 "cells": [
  {
   "cell_type": "code",
   "execution_count": 2,
   "metadata": {},
   "outputs": [],
   "source": [
    "# Install if running for the first time \n",
    "# !pip install git+https://github.com/pmbaumgartner/setfit -q"
   ]
  },
  {
   "attachments": {},
   "cell_type": "markdown",
   "metadata": {},
   "source": [
    "### Importing Necessary Libraries"
   ]
  },
  {
   "cell_type": "code",
   "execution_count": 34,
   "metadata": {},
   "outputs": [],
   "source": [
    "# Data Manipulation\n",
    "import pandas as pd\n",
    "\n",
    "# ML Model\n",
    "from setfit import SetFitClassifier\n",
    "\n",
    "# Evaluation and Visualization\n",
    "from sklearn.metrics import confusion_matrix, ConfusionMatrixDisplay\n",
    "import matplotlib.pyplot as plt"
   ]
  },
  {
   "attachments": {},
   "cell_type": "markdown",
   "metadata": {},
   "source": [
    "### Loading Dataset"
   ]
  },
  {
   "cell_type": "code",
   "execution_count": 2,
   "metadata": {},
   "outputs": [],
   "source": [
    "raw_train_df = pd.read_csv('./data/train.tsv', sep='\\t')\n",
    "raw_test_df = pd.read_csv('./data/test.tsv', sep='\\t')\n",
    "\n",
    "train_df = raw_train_df.copy()\n",
    "test_df = raw_test_df.copy()"
   ]
  },
  {
   "cell_type": "code",
   "execution_count": 3,
   "metadata": {},
   "outputs": [
    {
     "data": {
      "text/html": [
       "<div>\n",
       "<style scoped>\n",
       "    .dataframe tbody tr th:only-of-type {\n",
       "        vertical-align: middle;\n",
       "    }\n",
       "\n",
       "    .dataframe tbody tr th {\n",
       "        vertical-align: top;\n",
       "    }\n",
       "\n",
       "    .dataframe thead th {\n",
       "        text-align: right;\n",
       "    }\n",
       "</style>\n",
       "<table border=\"1\" class=\"dataframe\">\n",
       "  <thead>\n",
       "    <tr style=\"text-align: right;\">\n",
       "      <th></th>\n",
       "      <th>PhraseId</th>\n",
       "      <th>SentenceId</th>\n",
       "      <th>Phrase</th>\n",
       "      <th>Sentiment</th>\n",
       "    </tr>\n",
       "  </thead>\n",
       "  <tbody>\n",
       "    <tr>\n",
       "      <th>95722</th>\n",
       "      <td>95723</td>\n",
       "      <td>5000</td>\n",
       "      <td>'s as sorry</td>\n",
       "      <td>2</td>\n",
       "    </tr>\n",
       "    <tr>\n",
       "      <th>147312</th>\n",
       "      <td>147313</td>\n",
       "      <td>8016</td>\n",
       "      <td>Romantic comedy and Dogme 95 filmmaking may se...</td>\n",
       "      <td>4</td>\n",
       "    </tr>\n",
       "    <tr>\n",
       "      <th>36991</th>\n",
       "      <td>36992</td>\n",
       "      <td>1752</td>\n",
       "      <td>of these days</td>\n",
       "      <td>2</td>\n",
       "    </tr>\n",
       "    <tr>\n",
       "      <th>150211</th>\n",
       "      <td>150212</td>\n",
       "      <td>8182</td>\n",
       "      <td>flinch from its unsettling prognosis</td>\n",
       "      <td>2</td>\n",
       "    </tr>\n",
       "    <tr>\n",
       "      <th>140655</th>\n",
       "      <td>140656</td>\n",
       "      <td>7631</td>\n",
       "      <td>are clinically depressed</td>\n",
       "      <td>1</td>\n",
       "    </tr>\n",
       "  </tbody>\n",
       "</table>\n",
       "</div>"
      ],
      "text/plain": [
       "        PhraseId  SentenceId  \\\n",
       "95722      95723        5000   \n",
       "147312    147313        8016   \n",
       "36991      36992        1752   \n",
       "150211    150212        8182   \n",
       "140655    140656        7631   \n",
       "\n",
       "                                                   Phrase  Sentiment  \n",
       "95722                                         's as sorry          2  \n",
       "147312  Romantic comedy and Dogme 95 filmmaking may se...          4  \n",
       "36991                                       of these days          2  \n",
       "150211               flinch from its unsettling prognosis          2  \n",
       "140655                           are clinically depressed          1  "
      ]
     },
     "execution_count": 3,
     "metadata": {},
     "output_type": "execute_result"
    }
   ],
   "source": [
    "train_df.sample(5, random_state=42)   "
   ]
  },
  {
   "cell_type": "code",
   "execution_count": 4,
   "metadata": {},
   "outputs": [
    {
     "data": {
      "text/html": [
       "<div>\n",
       "<style scoped>\n",
       "    .dataframe tbody tr th:only-of-type {\n",
       "        vertical-align: middle;\n",
       "    }\n",
       "\n",
       "    .dataframe tbody tr th {\n",
       "        vertical-align: top;\n",
       "    }\n",
       "\n",
       "    .dataframe thead th {\n",
       "        text-align: right;\n",
       "    }\n",
       "</style>\n",
       "<table border=\"1\" class=\"dataframe\">\n",
       "  <thead>\n",
       "    <tr style=\"text-align: right;\">\n",
       "      <th></th>\n",
       "      <th>PhraseId</th>\n",
       "      <th>SentenceId</th>\n",
       "      <th>Phrase</th>\n",
       "    </tr>\n",
       "  </thead>\n",
       "  <tbody>\n",
       "    <tr>\n",
       "      <th>43654</th>\n",
       "      <td>199715</td>\n",
       "      <td>10623</td>\n",
       "      <td>tempting to jump ship in January to avoid ridi...</td>\n",
       "    </tr>\n",
       "    <tr>\n",
       "      <th>48255</th>\n",
       "      <td>204316</td>\n",
       "      <td>10864</td>\n",
       "      <td>terrific and</td>\n",
       "    </tr>\n",
       "    <tr>\n",
       "      <th>13645</th>\n",
       "      <td>169706</td>\n",
       "      <td>9123</td>\n",
       "      <td>for decades</td>\n",
       "    </tr>\n",
       "    <tr>\n",
       "      <th>40638</th>\n",
       "      <td>196699</td>\n",
       "      <td>10461</td>\n",
       "      <td>to its not-so-stock characters</td>\n",
       "    </tr>\n",
       "    <tr>\n",
       "      <th>10925</th>\n",
       "      <td>166986</td>\n",
       "      <td>8995</td>\n",
       "      <td>one of the best films of the year</td>\n",
       "    </tr>\n",
       "  </tbody>\n",
       "</table>\n",
       "</div>"
      ],
      "text/plain": [
       "       PhraseId  SentenceId                                             Phrase\n",
       "43654    199715       10623  tempting to jump ship in January to avoid ridi...\n",
       "48255    204316       10864                                       terrific and\n",
       "13645    169706        9123                                        for decades\n",
       "40638    196699       10461                     to its not-so-stock characters\n",
       "10925    166986        8995                  one of the best films of the year"
      ]
     },
     "execution_count": 4,
     "metadata": {},
     "output_type": "execute_result"
    }
   ],
   "source": [
    "test_df.sample(5, random_state=42)   "
   ]
  },
  {
   "cell_type": "code",
   "execution_count": 5,
   "metadata": {},
   "outputs": [
    {
     "name": "stdout",
     "output_type": "stream",
     "text": [
      "<class 'pandas.core.frame.DataFrame'>\n",
      "RangeIndex: 156060 entries, 0 to 156059\n",
      "Data columns (total 4 columns):\n",
      " #   Column      Non-Null Count   Dtype \n",
      "---  ------      --------------   ----- \n",
      " 0   PhraseId    156060 non-null  int64 \n",
      " 1   SentenceId  156060 non-null  int64 \n",
      " 2   Phrase      156060 non-null  object\n",
      " 3   Sentiment   156060 non-null  int64 \n",
      "dtypes: int64(3), object(1)\n",
      "memory usage: 4.8+ MB\n"
     ]
    }
   ],
   "source": [
    "train_df.info()"
   ]
  },
  {
   "cell_type": "code",
   "execution_count": 6,
   "metadata": {},
   "outputs": [
    {
     "name": "stdout",
     "output_type": "stream",
     "text": [
      "<class 'pandas.core.frame.DataFrame'>\n",
      "RangeIndex: 66292 entries, 0 to 66291\n",
      "Data columns (total 3 columns):\n",
      " #   Column      Non-Null Count  Dtype \n",
      "---  ------      --------------  ----- \n",
      " 0   PhraseId    66292 non-null  int64 \n",
      " 1   SentenceId  66292 non-null  int64 \n",
      " 2   Phrase      66292 non-null  object\n",
      "dtypes: int64(2), object(1)\n",
      "memory usage: 1.5+ MB\n"
     ]
    }
   ],
   "source": [
    "test_df.info()"
   ]
  },
  {
   "attachments": {},
   "cell_type": "markdown",
   "metadata": {},
   "source": [
    "We can see there are no missing values. That means preprocessing was already done from before. "
   ]
  },
  {
   "attachments": {},
   "cell_type": "markdown",
   "metadata": {},
   "source": [
    "Data Dictionary"
   ]
  },
  {
   "cell_type": "code",
   "execution_count": 7,
   "metadata": {},
   "outputs": [
    {
     "data": {
      "text/plain": [
       "2    79582\n",
       "3    32927\n",
       "1    27273\n",
       "4     9206\n",
       "0     7072\n",
       "Name: Sentiment, dtype: int64"
      ]
     },
     "execution_count": 7,
     "metadata": {},
     "output_type": "execute_result"
    }
   ],
   "source": [
    "train_df['Sentiment'].value_counts()"
   ]
  },
  {
   "attachments": {},
   "cell_type": "markdown",
   "metadata": {},
   "source": [
    "We can see there are 5 different sentiment labels. Lets what each of them apply and then we will accordingly assign them text labels. "
   ]
  },
  {
   "cell_type": "code",
   "execution_count": 8,
   "metadata": {},
   "outputs": [
    {
     "data": {
      "text/html": [
       "<div>\n",
       "<style scoped>\n",
       "    .dataframe tbody tr th:only-of-type {\n",
       "        vertical-align: middle;\n",
       "    }\n",
       "\n",
       "    .dataframe tbody tr th {\n",
       "        vertical-align: top;\n",
       "    }\n",
       "\n",
       "    .dataframe thead th {\n",
       "        text-align: right;\n",
       "    }\n",
       "</style>\n",
       "<table border=\"1\" class=\"dataframe\">\n",
       "  <thead>\n",
       "    <tr style=\"text-align: right;\">\n",
       "      <th></th>\n",
       "      <th>PhraseId</th>\n",
       "      <th>SentenceId</th>\n",
       "      <th>Phrase</th>\n",
       "      <th>Sentiment</th>\n",
       "    </tr>\n",
       "  </thead>\n",
       "  <tbody>\n",
       "    <tr>\n",
       "      <th>115485</th>\n",
       "      <td>115486</td>\n",
       "      <td>6153</td>\n",
       "      <td>It 's hard to imagine any recent film , indepe...</td>\n",
       "      <td>0</td>\n",
       "    </tr>\n",
       "    <tr>\n",
       "      <th>72448</th>\n",
       "      <td>72449</td>\n",
       "      <td>3702</td>\n",
       "      <td>as a numbingly dull experience</td>\n",
       "      <td>0</td>\n",
       "    </tr>\n",
       "    <tr>\n",
       "      <th>101189</th>\n",
       "      <td>101190</td>\n",
       "      <td>5318</td>\n",
       "      <td>by its predictable plot and paper-thin support...</td>\n",
       "      <td>0</td>\n",
       "    </tr>\n",
       "  </tbody>\n",
       "</table>\n",
       "</div>"
      ],
      "text/plain": [
       "        PhraseId  SentenceId  \\\n",
       "115485    115486        6153   \n",
       "72448      72449        3702   \n",
       "101189    101190        5318   \n",
       "\n",
       "                                                   Phrase  Sentiment  \n",
       "115485  It 's hard to imagine any recent film , indepe...          0  \n",
       "72448                      as a numbingly dull experience          0  \n",
       "101189  by its predictable plot and paper-thin support...          0  "
      ]
     },
     "execution_count": 8,
     "metadata": {},
     "output_type": "execute_result"
    }
   ],
   "source": [
    "train_df[train_df['Sentiment'] == 0].sample(3, random_state=42)"
   ]
  },
  {
   "cell_type": "code",
   "execution_count": 9,
   "metadata": {},
   "outputs": [
    {
     "data": {
      "text/html": [
       "<div>\n",
       "<style scoped>\n",
       "    .dataframe tbody tr th:only-of-type {\n",
       "        vertical-align: middle;\n",
       "    }\n",
       "\n",
       "    .dataframe tbody tr th {\n",
       "        vertical-align: top;\n",
       "    }\n",
       "\n",
       "    .dataframe thead th {\n",
       "        text-align: right;\n",
       "    }\n",
       "</style>\n",
       "<table border=\"1\" class=\"dataframe\">\n",
       "  <thead>\n",
       "    <tr style=\"text-align: right;\">\n",
       "      <th></th>\n",
       "      <th>PhraseId</th>\n",
       "      <th>SentenceId</th>\n",
       "      <th>Phrase</th>\n",
       "      <th>Sentiment</th>\n",
       "    </tr>\n",
       "  </thead>\n",
       "  <tbody>\n",
       "    <tr>\n",
       "      <th>25753</th>\n",
       "      <td>25754</td>\n",
       "      <td>1177</td>\n",
       "      <td>Where the film falters is in its tone .</td>\n",
       "      <td>1</td>\n",
       "    </tr>\n",
       "    <tr>\n",
       "      <th>77268</th>\n",
       "      <td>77269</td>\n",
       "      <td>3975</td>\n",
       "      <td>rag-tag bunch</td>\n",
       "      <td>1</td>\n",
       "    </tr>\n",
       "    <tr>\n",
       "      <th>55455</th>\n",
       "      <td>55456</td>\n",
       "      <td>2768</td>\n",
       "      <td>It wo n't harm anyone , but</td>\n",
       "      <td>1</td>\n",
       "    </tr>\n",
       "  </tbody>\n",
       "</table>\n",
       "</div>"
      ],
      "text/plain": [
       "       PhraseId  SentenceId                                   Phrase  \\\n",
       "25753     25754        1177  Where the film falters is in its tone .   \n",
       "77268     77269        3975                            rag-tag bunch   \n",
       "55455     55456        2768              It wo n't harm anyone , but   \n",
       "\n",
       "       Sentiment  \n",
       "25753          1  \n",
       "77268          1  \n",
       "55455          1  "
      ]
     },
     "execution_count": 9,
     "metadata": {},
     "output_type": "execute_result"
    }
   ],
   "source": [
    "train_df[train_df['Sentiment'] == 1].sample(3, random_state=42)"
   ]
  },
  {
   "cell_type": "code",
   "execution_count": 10,
   "metadata": {},
   "outputs": [
    {
     "data": {
      "text/html": [
       "<div>\n",
       "<style scoped>\n",
       "    .dataframe tbody tr th:only-of-type {\n",
       "        vertical-align: middle;\n",
       "    }\n",
       "\n",
       "    .dataframe tbody tr th {\n",
       "        vertical-align: top;\n",
       "    }\n",
       "\n",
       "    .dataframe thead th {\n",
       "        text-align: right;\n",
       "    }\n",
       "</style>\n",
       "<table border=\"1\" class=\"dataframe\">\n",
       "  <thead>\n",
       "    <tr style=\"text-align: right;\">\n",
       "      <th></th>\n",
       "      <th>PhraseId</th>\n",
       "      <th>SentenceId</th>\n",
       "      <th>Phrase</th>\n",
       "      <th>Sentiment</th>\n",
       "    </tr>\n",
       "  </thead>\n",
       "  <tbody>\n",
       "    <tr>\n",
       "      <th>67248</th>\n",
       "      <td>67249</td>\n",
       "      <td>3412</td>\n",
       "      <td>seem pretty unbelievable at times</td>\n",
       "      <td>2</td>\n",
       "    </tr>\n",
       "    <tr>\n",
       "      <th>85134</th>\n",
       "      <td>85135</td>\n",
       "      <td>4403</td>\n",
       "      <td>smitten document of a troubadour , his acolyte...</td>\n",
       "      <td>2</td>\n",
       "    </tr>\n",
       "    <tr>\n",
       "      <th>49560</th>\n",
       "      <td>49561</td>\n",
       "      <td>2427</td>\n",
       "      <td>the 1984 uncut version of Sergio Leone</td>\n",
       "      <td>2</td>\n",
       "    </tr>\n",
       "  </tbody>\n",
       "</table>\n",
       "</div>"
      ],
      "text/plain": [
       "       PhraseId  SentenceId  \\\n",
       "67248     67249        3412   \n",
       "85134     85135        4403   \n",
       "49560     49561        2427   \n",
       "\n",
       "                                                  Phrase  Sentiment  \n",
       "67248                  seem pretty unbelievable at times          2  \n",
       "85134  smitten document of a troubadour , his acolyte...          2  \n",
       "49560             the 1984 uncut version of Sergio Leone          2  "
      ]
     },
     "execution_count": 10,
     "metadata": {},
     "output_type": "execute_result"
    }
   ],
   "source": [
    "train_df[train_df['Sentiment'] == 2].sample(3, random_state=42)"
   ]
  },
  {
   "cell_type": "code",
   "execution_count": 11,
   "metadata": {},
   "outputs": [
    {
     "data": {
      "text/html": [
       "<div>\n",
       "<style scoped>\n",
       "    .dataframe tbody tr th:only-of-type {\n",
       "        vertical-align: middle;\n",
       "    }\n",
       "\n",
       "    .dataframe tbody tr th {\n",
       "        vertical-align: top;\n",
       "    }\n",
       "\n",
       "    .dataframe thead th {\n",
       "        text-align: right;\n",
       "    }\n",
       "</style>\n",
       "<table border=\"1\" class=\"dataframe\">\n",
       "  <thead>\n",
       "    <tr style=\"text-align: right;\">\n",
       "      <th></th>\n",
       "      <th>PhraseId</th>\n",
       "      <th>SentenceId</th>\n",
       "      <th>Phrase</th>\n",
       "      <th>Sentiment</th>\n",
       "    </tr>\n",
       "  </thead>\n",
       "  <tbody>\n",
       "    <tr>\n",
       "      <th>61156</th>\n",
       "      <td>61157</td>\n",
       "      <td>3090</td>\n",
       "      <td>a consummate actor incapable of being boring</td>\n",
       "      <td>3</td>\n",
       "    </tr>\n",
       "    <tr>\n",
       "      <th>69544</th>\n",
       "      <td>69545</td>\n",
       "      <td>3535</td>\n",
       "      <td>Mr. Spielberg and his company just want you to...</td>\n",
       "      <td>3</td>\n",
       "    </tr>\n",
       "    <tr>\n",
       "      <th>54416</th>\n",
       "      <td>54417</td>\n",
       "      <td>2704</td>\n",
       "      <td>really , really good things can come in enormo...</td>\n",
       "      <td>3</td>\n",
       "    </tr>\n",
       "  </tbody>\n",
       "</table>\n",
       "</div>"
      ],
      "text/plain": [
       "       PhraseId  SentenceId  \\\n",
       "61156     61157        3090   \n",
       "69544     69545        3535   \n",
       "54416     54417        2704   \n",
       "\n",
       "                                                  Phrase  Sentiment  \n",
       "61156       a consummate actor incapable of being boring          3  \n",
       "69544  Mr. Spielberg and his company just want you to...          3  \n",
       "54416  really , really good things can come in enormo...          3  "
      ]
     },
     "execution_count": 11,
     "metadata": {},
     "output_type": "execute_result"
    }
   ],
   "source": [
    "train_df[train_df['Sentiment'] == 3].sample(3, random_state=42)"
   ]
  },
  {
   "cell_type": "code",
   "execution_count": 12,
   "metadata": {},
   "outputs": [
    {
     "data": {
      "text/html": [
       "<div>\n",
       "<style scoped>\n",
       "    .dataframe tbody tr th:only-of-type {\n",
       "        vertical-align: middle;\n",
       "    }\n",
       "\n",
       "    .dataframe tbody tr th {\n",
       "        vertical-align: top;\n",
       "    }\n",
       "\n",
       "    .dataframe thead th {\n",
       "        text-align: right;\n",
       "    }\n",
       "</style>\n",
       "<table border=\"1\" class=\"dataframe\">\n",
       "  <thead>\n",
       "    <tr style=\"text-align: right;\">\n",
       "      <th></th>\n",
       "      <th>PhraseId</th>\n",
       "      <th>SentenceId</th>\n",
       "      <th>Phrase</th>\n",
       "      <th>Sentiment</th>\n",
       "    </tr>\n",
       "  </thead>\n",
       "  <tbody>\n",
       "    <tr>\n",
       "      <th>4821</th>\n",
       "      <td>4822</td>\n",
       "      <td>184</td>\n",
       "      <td>, uplifting and moving</td>\n",
       "      <td>4</td>\n",
       "    </tr>\n",
       "    <tr>\n",
       "      <th>73463</th>\n",
       "      <td>73464</td>\n",
       "      <td>3754</td>\n",
       "      <td>an emotionally accessible , almost mystical work</td>\n",
       "      <td>4</td>\n",
       "    </tr>\n",
       "    <tr>\n",
       "      <th>41865</th>\n",
       "      <td>41866</td>\n",
       "      <td>2015</td>\n",
       "      <td>who are capable of anteing up some movie star ...</td>\n",
       "      <td>4</td>\n",
       "    </tr>\n",
       "  </tbody>\n",
       "</table>\n",
       "</div>"
      ],
      "text/plain": [
       "       PhraseId  SentenceId  \\\n",
       "4821       4822         184   \n",
       "73463     73464        3754   \n",
       "41865     41866        2015   \n",
       "\n",
       "                                                  Phrase  Sentiment  \n",
       "4821                              , uplifting and moving          4  \n",
       "73463   an emotionally accessible , almost mystical work          4  \n",
       "41865  who are capable of anteing up some movie star ...          4  "
      ]
     },
     "execution_count": 12,
     "metadata": {},
     "output_type": "execute_result"
    }
   ],
   "source": [
    "train_df[train_df['Sentiment'] == 4].sample(3, random_state=42)"
   ]
  },
  {
   "attachments": {},
   "cell_type": "markdown",
   "metadata": {},
   "source": [
    "As per the above samples, we will assign following text labels to each of the 5 sentiment labels."
   ]
  },
  {
   "cell_type": "code",
   "execution_count": 13,
   "metadata": {},
   "outputs": [],
   "source": [
    "text_labels = {\n",
    "    0: 'Very_Negative',\n",
    "    1: 'Negative',\n",
    "    2: 'Neutral',\n",
    "    3: 'Positive',\n",
    "    4: 'Very_Positive'\n",
    "}"
   ]
  },
  {
   "cell_type": "code",
   "execution_count": 14,
   "metadata": {},
   "outputs": [],
   "source": [
    "train_df['Sentiment_full'] = train_df['Sentiment'].map(text_labels)"
   ]
  },
  {
   "cell_type": "code",
   "execution_count": 15,
   "metadata": {},
   "outputs": [
    {
     "data": {
      "text/html": [
       "<div>\n",
       "<style scoped>\n",
       "    .dataframe tbody tr th:only-of-type {\n",
       "        vertical-align: middle;\n",
       "    }\n",
       "\n",
       "    .dataframe tbody tr th {\n",
       "        vertical-align: top;\n",
       "    }\n",
       "\n",
       "    .dataframe thead th {\n",
       "        text-align: right;\n",
       "    }\n",
       "</style>\n",
       "<table border=\"1\" class=\"dataframe\">\n",
       "  <thead>\n",
       "    <tr style=\"text-align: right;\">\n",
       "      <th></th>\n",
       "      <th>PhraseId</th>\n",
       "      <th>SentenceId</th>\n",
       "      <th>Phrase</th>\n",
       "      <th>Sentiment</th>\n",
       "      <th>Sentiment_full</th>\n",
       "    </tr>\n",
       "  </thead>\n",
       "  <tbody>\n",
       "    <tr>\n",
       "      <th>0</th>\n",
       "      <td>1</td>\n",
       "      <td>1</td>\n",
       "      <td>A series of escapades demonstrating the adage ...</td>\n",
       "      <td>1</td>\n",
       "      <td>Negative</td>\n",
       "    </tr>\n",
       "    <tr>\n",
       "      <th>1</th>\n",
       "      <td>2</td>\n",
       "      <td>1</td>\n",
       "      <td>A series of escapades demonstrating the adage ...</td>\n",
       "      <td>2</td>\n",
       "      <td>Neutral</td>\n",
       "    </tr>\n",
       "    <tr>\n",
       "      <th>2</th>\n",
       "      <td>3</td>\n",
       "      <td>1</td>\n",
       "      <td>A series</td>\n",
       "      <td>2</td>\n",
       "      <td>Neutral</td>\n",
       "    </tr>\n",
       "    <tr>\n",
       "      <th>3</th>\n",
       "      <td>4</td>\n",
       "      <td>1</td>\n",
       "      <td>A</td>\n",
       "      <td>2</td>\n",
       "      <td>Neutral</td>\n",
       "    </tr>\n",
       "    <tr>\n",
       "      <th>4</th>\n",
       "      <td>5</td>\n",
       "      <td>1</td>\n",
       "      <td>series</td>\n",
       "      <td>2</td>\n",
       "      <td>Neutral</td>\n",
       "    </tr>\n",
       "  </tbody>\n",
       "</table>\n",
       "</div>"
      ],
      "text/plain": [
       "   PhraseId  SentenceId                                             Phrase  \\\n",
       "0         1           1  A series of escapades demonstrating the adage ...   \n",
       "1         2           1  A series of escapades demonstrating the adage ...   \n",
       "2         3           1                                           A series   \n",
       "3         4           1                                                  A   \n",
       "4         5           1                                             series   \n",
       "\n",
       "   Sentiment Sentiment_full  \n",
       "0          1       Negative  \n",
       "1          2        Neutral  \n",
       "2          2        Neutral  \n",
       "3          2        Neutral  \n",
       "4          2        Neutral  "
      ]
     },
     "execution_count": 15,
     "metadata": {},
     "output_type": "execute_result"
    }
   ],
   "source": [
    "train_df.head()"
   ]
  },
  {
   "cell_type": "code",
   "execution_count": 19,
   "metadata": {},
   "outputs": [],
   "source": [
    "train_pos_neg = train_df[(train_df['Sentiment_full'] == 'Very_Negative') | (train_df['Sentiment_full'] == 'Very_Positive')]"
   ]
  },
  {
   "cell_type": "code",
   "execution_count": 20,
   "metadata": {},
   "outputs": [
    {
     "data": {
      "text/plain": [
       "(16278, 5)"
      ]
     },
     "execution_count": 20,
     "metadata": {},
     "output_type": "execute_result"
    }
   ],
   "source": [
    "train_pos_neg.shape"
   ]
  },
  {
   "attachments": {},
   "cell_type": "markdown",
   "metadata": {},
   "source": [
    "For our exercise, we will train only very positive and very negative sentiment data with just few examples as that is the main purpose."
   ]
  },
  {
   "cell_type": "code",
   "execution_count": 22,
   "metadata": {},
   "outputs": [],
   "source": [
    "train_100 = train_pos_neg.sample(100, random_state=42)"
   ]
  },
  {
   "cell_type": "code",
   "execution_count": 23,
   "metadata": {},
   "outputs": [],
   "source": [
    "val_100 = train_pos_neg.sample(50, random_state=42)"
   ]
  },
  {
   "attachments": {},
   "cell_type": "markdown",
   "metadata": {},
   "source": [
    "### Loading Pretrained Model and Fine-tuning"
   ]
  },
  {
   "cell_type": "code",
   "execution_count": 24,
   "metadata": {},
   "outputs": [
    {
     "data": {
      "application/vnd.jupyter.widget-view+json": {
       "model_id": "4f17ec3f4d284eec8647fcda0184eb2a",
       "version_major": 2,
       "version_minor": 0
      },
      "text/plain": [
       "Downloading:   0%|          | 0.00/690 [00:00<?, ?B/s]"
      ]
     },
     "metadata": {},
     "output_type": "display_data"
    },
    {
     "data": {
      "application/vnd.jupyter.widget-view+json": {
       "model_id": "7ef243c9df254b8c909a5fd248995cb2",
       "version_major": 2,
       "version_minor": 0
      },
      "text/plain": [
       "Downloading:   0%|          | 0.00/190 [00:00<?, ?B/s]"
      ]
     },
     "metadata": {},
     "output_type": "display_data"
    },
    {
     "data": {
      "application/vnd.jupyter.widget-view+json": {
       "model_id": "211b1d8aa2274a3aa44030a493f04d90",
       "version_major": 2,
       "version_minor": 0
      },
      "text/plain": [
       "Downloading:   0%|          | 0.00/4.01k [00:00<?, ?B/s]"
      ]
     },
     "metadata": {},
     "output_type": "display_data"
    },
    {
     "data": {
      "application/vnd.jupyter.widget-view+json": {
       "model_id": "9ec6319a1a9a4372b2480194b8bcbcf3",
       "version_major": 2,
       "version_minor": 0
      },
      "text/plain": [
       "Downloading:   0%|          | 0.00/629 [00:00<?, ?B/s]"
      ]
     },
     "metadata": {},
     "output_type": "display_data"
    },
    {
     "data": {
      "application/vnd.jupyter.widget-view+json": {
       "model_id": "3f6a0a7623594ebd8aca9fddd42f5bdd",
       "version_major": 2,
       "version_minor": 0
      },
      "text/plain": [
       "Downloading:   0%|          | 0.00/122 [00:00<?, ?B/s]"
      ]
     },
     "metadata": {},
     "output_type": "display_data"
    },
    {
     "data": {
      "application/vnd.jupyter.widget-view+json": {
       "model_id": "d3efa3a75ae24b5d8226bb2476e7ff54",
       "version_major": 2,
       "version_minor": 0
      },
      "text/plain": [
       "Downloading:   0%|          | 0.00/69.6M [00:00<?, ?B/s]"
      ]
     },
     "metadata": {},
     "output_type": "display_data"
    },
    {
     "data": {
      "application/vnd.jupyter.widget-view+json": {
       "model_id": "76e2588cdd86494ea5212f3b0d367f8f",
       "version_major": 2,
       "version_minor": 0
      },
      "text/plain": [
       "Downloading:   0%|          | 0.00/53.0 [00:00<?, ?B/s]"
      ]
     },
     "metadata": {},
     "output_type": "display_data"
    },
    {
     "data": {
      "application/vnd.jupyter.widget-view+json": {
       "model_id": "0c44c9b4445e470cb24d958a68af5124",
       "version_major": 2,
       "version_minor": 0
      },
      "text/plain": [
       "Downloading:   0%|          | 0.00/112 [00:00<?, ?B/s]"
      ]
     },
     "metadata": {},
     "output_type": "display_data"
    },
    {
     "data": {
      "application/vnd.jupyter.widget-view+json": {
       "model_id": "45c033cdff1d48f3a7621495fad8b48d",
       "version_major": 2,
       "version_minor": 0
      },
      "text/plain": [
       "Downloading:   0%|          | 0.00/466k [00:00<?, ?B/s]"
      ]
     },
     "metadata": {},
     "output_type": "display_data"
    },
    {
     "data": {
      "application/vnd.jupyter.widget-view+json": {
       "model_id": "ce8017f2a6974af2b8156ce23e6037f6",
       "version_major": 2,
       "version_minor": 0
      },
      "text/plain": [
       "Downloading:   0%|          | 0.00/314 [00:00<?, ?B/s]"
      ]
     },
     "metadata": {},
     "output_type": "display_data"
    },
    {
     "data": {
      "application/vnd.jupyter.widget-view+json": {
       "model_id": "5c1465f9c58548d1bbae1332a8220432",
       "version_major": 2,
       "version_minor": 0
      },
      "text/plain": [
       "Downloading:   0%|          | 0.00/232k [00:00<?, ?B/s]"
      ]
     },
     "metadata": {},
     "output_type": "display_data"
    },
    {
     "data": {
      "application/vnd.jupyter.widget-view+json": {
       "model_id": "c4ae3eca919e480b8d6f9ca513315689",
       "version_major": 2,
       "version_minor": 0
      },
      "text/plain": [
       "Downloading:   0%|          | 0.00/229 [00:00<?, ?B/s]"
      ]
     },
     "metadata": {},
     "output_type": "display_data"
    }
   ],
   "source": [
    "# takes a sentence-transformers model\n",
    "clf = SetFitClassifier(\"paraphrase-MiniLM-L3-v2\")"
   ]
  },
  {
   "cell_type": "code",
   "execution_count": 26,
   "metadata": {},
   "outputs": [],
   "source": [
    "docs = train_100['Phrase'].tolist()\n",
    "labels = train_100['Sentiment_full'].tolist()"
   ]
  },
  {
   "cell_type": "code",
   "execution_count": 27,
   "metadata": {},
   "outputs": [
    {
     "data": {
      "text/plain": [
       "['essentially ruined --',\n",
       " 'critic-proof',\n",
       " \"is the script 's endless assault of embarrassingly ham-fisted sex jokes\",\n",
       " 'At 78 minutes it just zings along with vibrance and warmth .',\n",
       " 'My Sweet has so many flaws it would be easy for critics to shred it .']"
      ]
     },
     "execution_count": 27,
     "metadata": {},
     "output_type": "execute_result"
    }
   ],
   "source": [
    "docs[:5]"
   ]
  },
  {
   "cell_type": "code",
   "execution_count": 28,
   "metadata": {},
   "outputs": [
    {
     "data": {
      "text/plain": [
       "['Very_Negative',\n",
       " 'Very_Positive',\n",
       " 'Very_Negative',\n",
       " 'Very_Positive',\n",
       " 'Very_Negative']"
      ]
     },
     "execution_count": 28,
     "metadata": {},
     "output_type": "execute_result"
    }
   ],
   "source": [
    "labels[:5]"
   ]
  },
  {
   "cell_type": "code",
   "execution_count": 29,
   "metadata": {},
   "outputs": [
    {
     "data": {
      "application/vnd.jupyter.widget-view+json": {
       "model_id": "cb2bbd87a2124250a888327d9b585055",
       "version_major": 2,
       "version_minor": 0
      },
      "text/plain": [
       "Epoch:   0%|          | 0/1 [00:00<?, ?it/s]"
      ]
     },
     "metadata": {},
     "output_type": "display_data"
    },
    {
     "data": {
      "application/vnd.jupyter.widget-view+json": {
       "model_id": "09b1f9f009cf4565a3449cc958b1f3ba",
       "version_major": 2,
       "version_minor": 0
      },
      "text/plain": [
       "Iteration:   0%|          | 0/63 [00:00<?, ?it/s]"
      ]
     },
     "metadata": {},
     "output_type": "display_data"
    }
   ],
   "source": [
    "# fine-tuned embeddings + trains logistic regression head\n",
    "clf.fit(docs, labels)"
   ]
  },
  {
   "attachments": {},
   "cell_type": "markdown",
   "metadata": {},
   "source": [
    "### Evaluation"
   ]
  },
  {
   "cell_type": "code",
   "execution_count": 31,
   "metadata": {},
   "outputs": [],
   "source": [
    "val_100['predicted'] = clf.predict(val_100['Phrase'].to_list())"
   ]
  },
  {
   "cell_type": "code",
   "execution_count": 32,
   "metadata": {},
   "outputs": [
    {
     "data": {
      "text/html": [
       "<div>\n",
       "<style scoped>\n",
       "    .dataframe tbody tr th:only-of-type {\n",
       "        vertical-align: middle;\n",
       "    }\n",
       "\n",
       "    .dataframe tbody tr th {\n",
       "        vertical-align: top;\n",
       "    }\n",
       "\n",
       "    .dataframe thead th {\n",
       "        text-align: right;\n",
       "    }\n",
       "</style>\n",
       "<table border=\"1\" class=\"dataframe\">\n",
       "  <thead>\n",
       "    <tr style=\"text-align: right;\">\n",
       "      <th></th>\n",
       "      <th>PhraseId</th>\n",
       "      <th>SentenceId</th>\n",
       "      <th>Phrase</th>\n",
       "      <th>Sentiment</th>\n",
       "      <th>Sentiment_full</th>\n",
       "      <th>predicted</th>\n",
       "    </tr>\n",
       "  </thead>\n",
       "  <tbody>\n",
       "    <tr>\n",
       "      <th>111954</th>\n",
       "      <td>111955</td>\n",
       "      <td>5942</td>\n",
       "      <td>essentially ruined --</td>\n",
       "      <td>0</td>\n",
       "      <td>Very_Negative</td>\n",
       "      <td>Very_Negative</td>\n",
       "    </tr>\n",
       "    <tr>\n",
       "      <th>59859</th>\n",
       "      <td>59860</td>\n",
       "      <td>3019</td>\n",
       "      <td>critic-proof</td>\n",
       "      <td>4</td>\n",
       "      <td>Very_Positive</td>\n",
       "      <td>Very_Positive</td>\n",
       "    </tr>\n",
       "    <tr>\n",
       "      <th>1760</th>\n",
       "      <td>1761</td>\n",
       "      <td>66</td>\n",
       "      <td>is the script 's endless assault of embarrassi...</td>\n",
       "      <td>0</td>\n",
       "      <td>Very_Negative</td>\n",
       "      <td>Very_Negative</td>\n",
       "    </tr>\n",
       "    <tr>\n",
       "      <th>31400</th>\n",
       "      <td>31401</td>\n",
       "      <td>1468</td>\n",
       "      <td>At 78 minutes it just zings along with vibranc...</td>\n",
       "      <td>4</td>\n",
       "      <td>Very_Positive</td>\n",
       "      <td>Very_Positive</td>\n",
       "    </tr>\n",
       "    <tr>\n",
       "      <th>82180</th>\n",
       "      <td>82181</td>\n",
       "      <td>4241</td>\n",
       "      <td>My Sweet has so many flaws it would be easy fo...</td>\n",
       "      <td>0</td>\n",
       "      <td>Very_Negative</td>\n",
       "      <td>Very_Negative</td>\n",
       "    </tr>\n",
       "    <tr>\n",
       "      <th>70453</th>\n",
       "      <td>70454</td>\n",
       "      <td>3593</td>\n",
       "      <td>Works as pretty contagious fun .</td>\n",
       "      <td>4</td>\n",
       "      <td>Very_Positive</td>\n",
       "      <td>Very_Positive</td>\n",
       "    </tr>\n",
       "    <tr>\n",
       "      <th>133322</th>\n",
       "      <td>133323</td>\n",
       "      <td>7194</td>\n",
       "      <td>A must see for all sides of the political spec...</td>\n",
       "      <td>4</td>\n",
       "      <td>Very_Positive</td>\n",
       "      <td>Very_Positive</td>\n",
       "    </tr>\n",
       "    <tr>\n",
       "      <th>109992</th>\n",
       "      <td>109993</td>\n",
       "      <td>5825</td>\n",
       "      <td>Frida gets the job done .</td>\n",
       "      <td>4</td>\n",
       "      <td>Very_Positive</td>\n",
       "      <td>Very_Positive</td>\n",
       "    </tr>\n",
       "    <tr>\n",
       "      <th>77340</th>\n",
       "      <td>77341</td>\n",
       "      <td>3978</td>\n",
       "      <td>'s packed with adventure and a worthwhile envi...</td>\n",
       "      <td>4</td>\n",
       "      <td>Very_Positive</td>\n",
       "      <td>Very_Positive</td>\n",
       "    </tr>\n",
       "    <tr>\n",
       "      <th>145489</th>\n",
       "      <td>145490</td>\n",
       "      <td>7909</td>\n",
       "      <td>Sparkles in its deft portrait of Tinseltown 's...</td>\n",
       "      <td>4</td>\n",
       "      <td>Very_Positive</td>\n",
       "      <td>Very_Positive</td>\n",
       "    </tr>\n",
       "    <tr>\n",
       "      <th>15710</th>\n",
       "      <td>15711</td>\n",
       "      <td>675</td>\n",
       "      <td>-LRB- Dong -RRB- makes a valiant effort to und...</td>\n",
       "      <td>4</td>\n",
       "      <td>Very_Positive</td>\n",
       "      <td>Very_Positive</td>\n",
       "    </tr>\n",
       "    <tr>\n",
       "      <th>48349</th>\n",
       "      <td>48350</td>\n",
       "      <td>2359</td>\n",
       "      <td>inauthentic</td>\n",
       "      <td>0</td>\n",
       "      <td>Very_Negative</td>\n",
       "      <td>Very_Negative</td>\n",
       "    </tr>\n",
       "    <tr>\n",
       "      <th>66493</th>\n",
       "      <td>66494</td>\n",
       "      <td>3374</td>\n",
       "      <td>is just as boring and as obvious</td>\n",
       "      <td>0</td>\n",
       "      <td>Very_Negative</td>\n",
       "      <td>Very_Negative</td>\n",
       "    </tr>\n",
       "    <tr>\n",
       "      <th>74039</th>\n",
       "      <td>74040</td>\n",
       "      <td>3787</td>\n",
       "      <td>Muddled , trashy and</td>\n",
       "      <td>0</td>\n",
       "      <td>Very_Negative</td>\n",
       "      <td>Very_Negative</td>\n",
       "    </tr>\n",
       "    <tr>\n",
       "      <th>73463</th>\n",
       "      <td>73464</td>\n",
       "      <td>3754</td>\n",
       "      <td>an emotionally accessible , almost mystical work</td>\n",
       "      <td>4</td>\n",
       "      <td>Very_Positive</td>\n",
       "      <td>Very_Positive</td>\n",
       "    </tr>\n",
       "    <tr>\n",
       "      <th>115192</th>\n",
       "      <td>115193</td>\n",
       "      <td>6136</td>\n",
       "      <td>has little to do with the story , which become...</td>\n",
       "      <td>0</td>\n",
       "      <td>Very_Negative</td>\n",
       "      <td>Very_Negative</td>\n",
       "    </tr>\n",
       "    <tr>\n",
       "      <th>50159</th>\n",
       "      <td>50160</td>\n",
       "      <td>2464</td>\n",
       "      <td>entertaining and moving</td>\n",
       "      <td>4</td>\n",
       "      <td>Very_Positive</td>\n",
       "      <td>Very_Positive</td>\n",
       "    </tr>\n",
       "    <tr>\n",
       "      <th>120074</th>\n",
       "      <td>120075</td>\n",
       "      <td>6422</td>\n",
       "      <td>a stunning film , a one-of-a-kind tour de force</td>\n",
       "      <td>4</td>\n",
       "      <td>Very_Positive</td>\n",
       "      <td>Very_Positive</td>\n",
       "    </tr>\n",
       "    <tr>\n",
       "      <th>25428</th>\n",
       "      <td>25429</td>\n",
       "      <td>1164</td>\n",
       "      <td>The best movie</td>\n",
       "      <td>4</td>\n",
       "      <td>Very_Positive</td>\n",
       "      <td>Very_Positive</td>\n",
       "    </tr>\n",
       "    <tr>\n",
       "      <th>29758</th>\n",
       "      <td>29759</td>\n",
       "      <td>1379</td>\n",
       "      <td>There is nothing redeeming about this movie .</td>\n",
       "      <td>0</td>\n",
       "      <td>Very_Negative</td>\n",
       "      <td>Very_Negative</td>\n",
       "    </tr>\n",
       "    <tr>\n",
       "      <th>12085</th>\n",
       "      <td>12086</td>\n",
       "      <td>518</td>\n",
       "      <td>the poor acting</td>\n",
       "      <td>0</td>\n",
       "      <td>Very_Negative</td>\n",
       "      <td>Very_Negative</td>\n",
       "    </tr>\n",
       "    <tr>\n",
       "      <th>88897</th>\n",
       "      <td>88898</td>\n",
       "      <td>4619</td>\n",
       "      <td>are particularly engaging or articulate .</td>\n",
       "      <td>4</td>\n",
       "      <td>Very_Positive</td>\n",
       "      <td>Very_Positive</td>\n",
       "    </tr>\n",
       "    <tr>\n",
       "      <th>42507</th>\n",
       "      <td>42508</td>\n",
       "      <td>2049</td>\n",
       "      <td>ca n't go wrong .</td>\n",
       "      <td>4</td>\n",
       "      <td>Very_Positive</td>\n",
       "      <td>Very_Positive</td>\n",
       "    </tr>\n",
       "    <tr>\n",
       "      <th>3172</th>\n",
       "      <td>3173</td>\n",
       "      <td>119</td>\n",
       "      <td>cheap</td>\n",
       "      <td>0</td>\n",
       "      <td>Very_Negative</td>\n",
       "      <td>Very_Negative</td>\n",
       "    </tr>\n",
       "    <tr>\n",
       "      <th>70231</th>\n",
       "      <td>70232</td>\n",
       "      <td>3576</td>\n",
       "      <td>how resolutely unamusing , how thoroughly unre...</td>\n",
       "      <td>0</td>\n",
       "      <td>Very_Negative</td>\n",
       "      <td>Very_Negative</td>\n",
       "    </tr>\n",
       "    <tr>\n",
       "      <th>14341</th>\n",
       "      <td>14342</td>\n",
       "      <td>618</td>\n",
       "      <td>A tired , unnecessary retread ...</td>\n",
       "      <td>0</td>\n",
       "      <td>Very_Negative</td>\n",
       "      <td>Very_Negative</td>\n",
       "    </tr>\n",
       "    <tr>\n",
       "      <th>75665</th>\n",
       "      <td>75666</td>\n",
       "      <td>3879</td>\n",
       "      <td>is so intent on hammering home his message tha...</td>\n",
       "      <td>0</td>\n",
       "      <td>Very_Negative</td>\n",
       "      <td>Very_Negative</td>\n",
       "    </tr>\n",
       "    <tr>\n",
       "      <th>43634</th>\n",
       "      <td>43635</td>\n",
       "      <td>2113</td>\n",
       "      <td>An honest , sensitive story from a Vietnamese ...</td>\n",
       "      <td>4</td>\n",
       "      <td>Very_Positive</td>\n",
       "      <td>Very_Positive</td>\n",
       "    </tr>\n",
       "    <tr>\n",
       "      <th>115850</th>\n",
       "      <td>115851</td>\n",
       "      <td>6174</td>\n",
       "      <td>A yawn-provoking little farm melodrama .</td>\n",
       "      <td>0</td>\n",
       "      <td>Very_Negative</td>\n",
       "      <td>Very_Negative</td>\n",
       "    </tr>\n",
       "    <tr>\n",
       "      <th>64738</th>\n",
       "      <td>64739</td>\n",
       "      <td>3278</td>\n",
       "      <td>The most wondrous love story in years , it is ...</td>\n",
       "      <td>4</td>\n",
       "      <td>Very_Positive</td>\n",
       "      <td>Very_Positive</td>\n",
       "    </tr>\n",
       "    <tr>\n",
       "      <th>9208</th>\n",
       "      <td>9209</td>\n",
       "      <td>385</td>\n",
       "      <td>Leguizamo and Jones are both excellent</td>\n",
       "      <td>4</td>\n",
       "      <td>Very_Positive</td>\n",
       "      <td>Very_Positive</td>\n",
       "    </tr>\n",
       "    <tr>\n",
       "      <th>135620</th>\n",
       "      <td>135621</td>\n",
       "      <td>7326</td>\n",
       "      <td>beautiful , evocative</td>\n",
       "      <td>4</td>\n",
       "      <td>Very_Positive</td>\n",
       "      <td>Very_Positive</td>\n",
       "    </tr>\n",
       "    <tr>\n",
       "      <th>135882</th>\n",
       "      <td>135883</td>\n",
       "      <td>7338</td>\n",
       "      <td>a sight to behold</td>\n",
       "      <td>4</td>\n",
       "      <td>Very_Positive</td>\n",
       "      <td>Very_Positive</td>\n",
       "    </tr>\n",
       "    <tr>\n",
       "      <th>131992</th>\n",
       "      <td>131993</td>\n",
       "      <td>7115</td>\n",
       "      <td>but one relentlessly depressing situation afte...</td>\n",
       "      <td>0</td>\n",
       "      <td>Very_Negative</td>\n",
       "      <td>Very_Negative</td>\n",
       "    </tr>\n",
       "    <tr>\n",
       "      <th>33778</th>\n",
       "      <td>33779</td>\n",
       "      <td>1588</td>\n",
       "      <td>but it 's a rushed , slapdash , sequel-for-the...</td>\n",
       "      <td>0</td>\n",
       "      <td>Very_Negative</td>\n",
       "      <td>Very_Negative</td>\n",
       "    </tr>\n",
       "    <tr>\n",
       "      <th>93706</th>\n",
       "      <td>93707</td>\n",
       "      <td>4886</td>\n",
       "      <td>better off staying on the festival circuit</td>\n",
       "      <td>0</td>\n",
       "      <td>Very_Negative</td>\n",
       "      <td>Very_Negative</td>\n",
       "    </tr>\n",
       "    <tr>\n",
       "      <th>45806</th>\n",
       "      <td>45807</td>\n",
       "      <td>2227</td>\n",
       "      <td>fun , splashy and entertainingly nasty</td>\n",
       "      <td>4</td>\n",
       "      <td>Very_Positive</td>\n",
       "      <td>Very_Positive</td>\n",
       "    </tr>\n",
       "    <tr>\n",
       "      <th>114065</th>\n",
       "      <td>114066</td>\n",
       "      <td>6064</td>\n",
       "      <td>off-puttingly cold</td>\n",
       "      <td>0</td>\n",
       "      <td>Very_Negative</td>\n",
       "      <td>Very_Negative</td>\n",
       "    </tr>\n",
       "    <tr>\n",
       "      <th>150644</th>\n",
       "      <td>150645</td>\n",
       "      <td>8211</td>\n",
       "      <td>is nothing short of a travesty of a transvesti...</td>\n",
       "      <td>0</td>\n",
       "      <td>Very_Negative</td>\n",
       "      <td>Very_Negative</td>\n",
       "    </tr>\n",
       "    <tr>\n",
       "      <th>82186</th>\n",
       "      <td>82187</td>\n",
       "      <td>4241</td>\n",
       "      <td>it would be easy for critics to shred it</td>\n",
       "      <td>0</td>\n",
       "      <td>Very_Negative</td>\n",
       "      <td>Very_Negative</td>\n",
       "    </tr>\n",
       "    <tr>\n",
       "      <th>22506</th>\n",
       "      <td>22507</td>\n",
       "      <td>1018</td>\n",
       "      <td>wonderfully loopy tale of love , longing , and...</td>\n",
       "      <td>4</td>\n",
       "      <td>Very_Positive</td>\n",
       "      <td>Very_Positive</td>\n",
       "    </tr>\n",
       "    <tr>\n",
       "      <th>154827</th>\n",
       "      <td>154828</td>\n",
       "      <td>8469</td>\n",
       "      <td>is one of the best actors there is .</td>\n",
       "      <td>4</td>\n",
       "      <td>Very_Positive</td>\n",
       "      <td>Very_Positive</td>\n",
       "    </tr>\n",
       "    <tr>\n",
       "      <th>143306</th>\n",
       "      <td>143307</td>\n",
       "      <td>7779</td>\n",
       "      <td>there 'll be a power outage during your screen...</td>\n",
       "      <td>0</td>\n",
       "      <td>Very_Negative</td>\n",
       "      <td>Very_Negative</td>\n",
       "    </tr>\n",
       "    <tr>\n",
       "      <th>59781</th>\n",
       "      <td>59782</td>\n",
       "      <td>3015</td>\n",
       "      <td>Sade achieves the near-impossible : It turns t...</td>\n",
       "      <td>0</td>\n",
       "      <td>Very_Negative</td>\n",
       "      <td>Very_Negative</td>\n",
       "    </tr>\n",
       "    <tr>\n",
       "      <th>110291</th>\n",
       "      <td>110292</td>\n",
       "      <td>5841</td>\n",
       "      <td>That such a horrible movie could have sprung f...</td>\n",
       "      <td>0</td>\n",
       "      <td>Very_Negative</td>\n",
       "      <td>Very_Negative</td>\n",
       "    </tr>\n",
       "    <tr>\n",
       "      <th>140498</th>\n",
       "      <td>140499</td>\n",
       "      <td>7624</td>\n",
       "      <td>that has bucked the odds to emerge as an exqui...</td>\n",
       "      <td>4</td>\n",
       "      <td>Very_Positive</td>\n",
       "      <td>Very_Positive</td>\n",
       "    </tr>\n",
       "    <tr>\n",
       "      <th>118562</th>\n",
       "      <td>118563</td>\n",
       "      <td>6335</td>\n",
       "      <td>Bad movie .</td>\n",
       "      <td>0</td>\n",
       "      <td>Very_Negative</td>\n",
       "      <td>Very_Negative</td>\n",
       "    </tr>\n",
       "    <tr>\n",
       "      <th>37450</th>\n",
       "      <td>37451</td>\n",
       "      <td>1778</td>\n",
       "      <td>of the year with its exquisite acting , invent...</td>\n",
       "      <td>4</td>\n",
       "      <td>Very_Positive</td>\n",
       "      <td>Very_Positive</td>\n",
       "    </tr>\n",
       "    <tr>\n",
       "      <th>141199</th>\n",
       "      <td>141200</td>\n",
       "      <td>7659</td>\n",
       "      <td>most intriguing movie experiences</td>\n",
       "      <td>4</td>\n",
       "      <td>Very_Positive</td>\n",
       "      <td>Very_Positive</td>\n",
       "    </tr>\n",
       "    <tr>\n",
       "      <th>134216</th>\n",
       "      <td>134217</td>\n",
       "      <td>7243</td>\n",
       "      <td>astounding performance</td>\n",
       "      <td>4</td>\n",
       "      <td>Very_Positive</td>\n",
       "      <td>Very_Positive</td>\n",
       "    </tr>\n",
       "  </tbody>\n",
       "</table>\n",
       "</div>"
      ],
      "text/plain": [
       "        PhraseId  SentenceId  \\\n",
       "111954    111955        5942   \n",
       "59859      59860        3019   \n",
       "1760        1761          66   \n",
       "31400      31401        1468   \n",
       "82180      82181        4241   \n",
       "70453      70454        3593   \n",
       "133322    133323        7194   \n",
       "109992    109993        5825   \n",
       "77340      77341        3978   \n",
       "145489    145490        7909   \n",
       "15710      15711         675   \n",
       "48349      48350        2359   \n",
       "66493      66494        3374   \n",
       "74039      74040        3787   \n",
       "73463      73464        3754   \n",
       "115192    115193        6136   \n",
       "50159      50160        2464   \n",
       "120074    120075        6422   \n",
       "25428      25429        1164   \n",
       "29758      29759        1379   \n",
       "12085      12086         518   \n",
       "88897      88898        4619   \n",
       "42507      42508        2049   \n",
       "3172        3173         119   \n",
       "70231      70232        3576   \n",
       "14341      14342         618   \n",
       "75665      75666        3879   \n",
       "43634      43635        2113   \n",
       "115850    115851        6174   \n",
       "64738      64739        3278   \n",
       "9208        9209         385   \n",
       "135620    135621        7326   \n",
       "135882    135883        7338   \n",
       "131992    131993        7115   \n",
       "33778      33779        1588   \n",
       "93706      93707        4886   \n",
       "45806      45807        2227   \n",
       "114065    114066        6064   \n",
       "150644    150645        8211   \n",
       "82186      82187        4241   \n",
       "22506      22507        1018   \n",
       "154827    154828        8469   \n",
       "143306    143307        7779   \n",
       "59781      59782        3015   \n",
       "110291    110292        5841   \n",
       "140498    140499        7624   \n",
       "118562    118563        6335   \n",
       "37450      37451        1778   \n",
       "141199    141200        7659   \n",
       "134216    134217        7243   \n",
       "\n",
       "                                                   Phrase  Sentiment  \\\n",
       "111954                              essentially ruined --          0   \n",
       "59859                                        critic-proof          4   \n",
       "1760    is the script 's endless assault of embarrassi...          0   \n",
       "31400   At 78 minutes it just zings along with vibranc...          4   \n",
       "82180   My Sweet has so many flaws it would be easy fo...          0   \n",
       "70453                    Works as pretty contagious fun .          4   \n",
       "133322  A must see for all sides of the political spec...          4   \n",
       "109992                          Frida gets the job done .          4   \n",
       "77340   's packed with adventure and a worthwhile envi...          4   \n",
       "145489  Sparkles in its deft portrait of Tinseltown 's...          4   \n",
       "15710   -LRB- Dong -RRB- makes a valiant effort to und...          4   \n",
       "48349                                         inauthentic          0   \n",
       "66493                    is just as boring and as obvious          0   \n",
       "74039                                Muddled , trashy and          0   \n",
       "73463    an emotionally accessible , almost mystical work          4   \n",
       "115192  has little to do with the story , which become...          0   \n",
       "50159                             entertaining and moving          4   \n",
       "120074    a stunning film , a one-of-a-kind tour de force          4   \n",
       "25428                                      The best movie          4   \n",
       "29758       There is nothing redeeming about this movie .          0   \n",
       "12085                                     the poor acting          0   \n",
       "88897           are particularly engaging or articulate .          4   \n",
       "42507                                   ca n't go wrong .          4   \n",
       "3172                                                cheap          0   \n",
       "70231   how resolutely unamusing , how thoroughly unre...          0   \n",
       "14341                   A tired , unnecessary retread ...          0   \n",
       "75665   is so intent on hammering home his message tha...          0   \n",
       "43634   An honest , sensitive story from a Vietnamese ...          4   \n",
       "115850           A yawn-provoking little farm melodrama .          0   \n",
       "64738   The most wondrous love story in years , it is ...          4   \n",
       "9208               Leguizamo and Jones are both excellent          4   \n",
       "135620                              beautiful , evocative          4   \n",
       "135882                                  a sight to behold          4   \n",
       "131992  but one relentlessly depressing situation afte...          0   \n",
       "33778   but it 's a rushed , slapdash , sequel-for-the...          0   \n",
       "93706          better off staying on the festival circuit          0   \n",
       "45806              fun , splashy and entertainingly nasty          4   \n",
       "114065                                 off-puttingly cold          0   \n",
       "150644  is nothing short of a travesty of a transvesti...          0   \n",
       "82186            it would be easy for critics to shred it          0   \n",
       "22506   wonderfully loopy tale of love , longing , and...          4   \n",
       "154827               is one of the best actors there is .          4   \n",
       "143306  there 'll be a power outage during your screen...          0   \n",
       "59781   Sade achieves the near-impossible : It turns t...          0   \n",
       "110291  That such a horrible movie could have sprung f...          0   \n",
       "140498  that has bucked the odds to emerge as an exqui...          4   \n",
       "118562                                        Bad movie .          0   \n",
       "37450   of the year with its exquisite acting , invent...          4   \n",
       "141199                  most intriguing movie experiences          4   \n",
       "134216                             astounding performance          4   \n",
       "\n",
       "       Sentiment_full      predicted  \n",
       "111954  Very_Negative  Very_Negative  \n",
       "59859   Very_Positive  Very_Positive  \n",
       "1760    Very_Negative  Very_Negative  \n",
       "31400   Very_Positive  Very_Positive  \n",
       "82180   Very_Negative  Very_Negative  \n",
       "70453   Very_Positive  Very_Positive  \n",
       "133322  Very_Positive  Very_Positive  \n",
       "109992  Very_Positive  Very_Positive  \n",
       "77340   Very_Positive  Very_Positive  \n",
       "145489  Very_Positive  Very_Positive  \n",
       "15710   Very_Positive  Very_Positive  \n",
       "48349   Very_Negative  Very_Negative  \n",
       "66493   Very_Negative  Very_Negative  \n",
       "74039   Very_Negative  Very_Negative  \n",
       "73463   Very_Positive  Very_Positive  \n",
       "115192  Very_Negative  Very_Negative  \n",
       "50159   Very_Positive  Very_Positive  \n",
       "120074  Very_Positive  Very_Positive  \n",
       "25428   Very_Positive  Very_Positive  \n",
       "29758   Very_Negative  Very_Negative  \n",
       "12085   Very_Negative  Very_Negative  \n",
       "88897   Very_Positive  Very_Positive  \n",
       "42507   Very_Positive  Very_Positive  \n",
       "3172    Very_Negative  Very_Negative  \n",
       "70231   Very_Negative  Very_Negative  \n",
       "14341   Very_Negative  Very_Negative  \n",
       "75665   Very_Negative  Very_Negative  \n",
       "43634   Very_Positive  Very_Positive  \n",
       "115850  Very_Negative  Very_Negative  \n",
       "64738   Very_Positive  Very_Positive  \n",
       "9208    Very_Positive  Very_Positive  \n",
       "135620  Very_Positive  Very_Positive  \n",
       "135882  Very_Positive  Very_Positive  \n",
       "131992  Very_Negative  Very_Negative  \n",
       "33778   Very_Negative  Very_Negative  \n",
       "93706   Very_Negative  Very_Negative  \n",
       "45806   Very_Positive  Very_Positive  \n",
       "114065  Very_Negative  Very_Negative  \n",
       "150644  Very_Negative  Very_Negative  \n",
       "82186   Very_Negative  Very_Negative  \n",
       "22506   Very_Positive  Very_Positive  \n",
       "154827  Very_Positive  Very_Positive  \n",
       "143306  Very_Negative  Very_Negative  \n",
       "59781   Very_Negative  Very_Negative  \n",
       "110291  Very_Negative  Very_Negative  \n",
       "140498  Very_Positive  Very_Positive  \n",
       "118562  Very_Negative  Very_Negative  \n",
       "37450   Very_Positive  Very_Positive  \n",
       "141199  Very_Positive  Very_Positive  \n",
       "134216  Very_Positive  Very_Positive  "
      ]
     },
     "execution_count": 32,
     "metadata": {},
     "output_type": "execute_result"
    }
   ],
   "source": [
    "val_100"
   ]
  },
  {
   "cell_type": "code",
   "execution_count": 35,
   "metadata": {},
   "outputs": [],
   "source": [
    "cm = confusion_matrix(val_100['Sentiment_full'], val_100['predicted'])"
   ]
  },
  {
   "cell_type": "code",
   "execution_count": 36,
   "metadata": {},
   "outputs": [],
   "source": [
    "disp = ConfusionMatrixDisplay(confusion_matrix=cm)"
   ]
  },
  {
   "cell_type": "code",
   "execution_count": 37,
   "metadata": {},
   "outputs": [
    {
     "data": {
      "text/plain": [
       "<sklearn.metrics._plot.confusion_matrix.ConfusionMatrixDisplay at 0x29580bb80>"
      ]
     },
     "execution_count": 37,
     "metadata": {},
     "output_type": "execute_result"
    },
    {
     "data": {
      "image/png": "[encoded data removed]",
      "text/plain": [
       "<Figure size 640x480 with 2 Axes>"
      ]
     },
     "metadata": {},
     "output_type": "display_data"
    }
   ],
   "source": [
    "disp.plot()"
   ]
  },
  {
   "attachments": {},
   "cell_type": "markdown",
   "metadata": {},
   "source": [
    "All of the very positive and very negative labels has been classified correctly! So our model did great job."
   ]
  }
 ],
 "metadata": {
  "kernelspec": {
   "display_name": "gpu_torch",
   "language": "python",
   "name": "python3"
  },
  "language_info": {
   "codemirror_mode": {
    "name": "ipython",
    "version": 3
   },
   "file_extension": ".py",
   "mimetype": "text/x-python",
   "name": "python",
   "nbconvert_exporter": "python",
   "pygments_lexer": "ipython3",
   "version": "3.10.8"
  },
  "orig_nbformat": 4,
  "vscode": {
   "interpreter": {
    "hash": "248b56ef0d91e1090579ae4bdd1a6134784931f99221face98a8f9a866dcf439"
   }
  }
 },
 "nbformat": 4,
 "nbformat_minor": 2
}
